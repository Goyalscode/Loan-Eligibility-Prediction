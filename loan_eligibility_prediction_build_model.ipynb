{
 "cells": [
  {
   "cell_type": "markdown",
   "id": "14148b2f",
   "metadata": {},
   "source": [
    "#  **Loan Eligibility Prediction**"
   ]
  },
  {
   "cell_type": "markdown",
   "id": "82c1e9eb",
   "metadata": {},
   "source": [
    "  "
   ]
  },
  {
   "cell_type": "markdown",
   "id": "c20145d6",
   "metadata": {},
   "source": [
    "\n",
    "######   Name : Priyanshu Goyal\n",
    "\n",
    "######   Section : A\n",
    "\n",
    "######   University Roll No : 2014787 "
   ]
  },
  {
   "cell_type": "markdown",
   "id": "c6c4860e",
   "metadata": {},
   "source": [
    "   "
   ]
  },
  {
   "cell_type": "markdown",
   "id": "94e91840",
   "metadata": {},
   "source": [
    "  "
   ]
  },
  {
   "cell_type": "markdown",
   "id": "530e7a88",
   "metadata": {},
   "source": [
    "##   About The Project : \n",
    "\n",
    "#####    This project involves predicting whether a loan should be given to an individual based on certain features such as gender, marital status, education, self-employeement, income, credit-history, loan-amount, loan-amount-term, dependents, propery_area. First, using   the given data, we try to build a machine learning model, and then use it to predict, whether a loan should be approved for a  person given his/her data."
   ]
  },
  {
   "cell_type": "markdown",
   "id": "696ae771",
   "metadata": {},
   "source": [
    "  "
   ]
  },
  {
   "cell_type": "markdown",
   "id": "3999058f",
   "metadata": {},
   "source": [
    "  "
   ]
  },
  {
   "cell_type": "markdown",
   "id": "000696fc",
   "metadata": {},
   "source": [
    "## Importing necessary packages, libraries\n"
   ]
  },
  {
   "cell_type": "code",
   "execution_count": 3,
   "id": "8ca6e846",
   "metadata": {},
   "outputs": [],
   "source": [
    "import numpy as np\n",
    "import pandas as pd\n",
    "import matplotlib.pyplot as plt\n",
    "import seaborn as sb"
   ]
  },
  {
   "cell_type": "markdown",
   "id": "55b0f4d1",
   "metadata": {},
   "source": [
    "   "
   ]
  },
  {
   "cell_type": "markdown",
   "id": "728a4e77",
   "metadata": {},
   "source": [
    "  "
   ]
  },
  {
   "cell_type": "markdown",
   "id": "7b3d9428",
   "metadata": {},
   "source": [
    "## Loading the csv loan dataset into a dataframe"
   ]
  },
  {
   "cell_type": "code",
   "execution_count": 4,
   "id": "79e8e184",
   "metadata": {},
   "outputs": [],
   "source": [
    "dataset = pd.read_csv(\"F:\\m_p\\Loan-Eligibility-Prediction\\dataset\\data.csv\")"
   ]
  },
  {
   "cell_type": "markdown",
   "id": "b98b21fd",
   "metadata": {},
   "source": [
    "   "
   ]
  },
  {
   "cell_type": "markdown",
   "id": "176e0bf7",
   "metadata": {},
   "source": [
    "  "
   ]
  },
  {
   "cell_type": "markdown",
   "id": "aeb2a5bb",
   "metadata": {},
   "source": [
    "## Exploring the dataset"
   ]
  },
  {
   "cell_type": "code",
   "execution_count": 5,
   "id": "e44d564d",
   "metadata": {},
   "outputs": [
    {
     "data": {
      "text/html": [
       "<div>\n",
       "<style scoped>\n",
       "    .dataframe tbody tr th:only-of-type {\n",
       "        vertical-align: middle;\n",
       "    }\n",
       "\n",
       "    .dataframe tbody tr th {\n",
       "        vertical-align: top;\n",
       "    }\n",
       "\n",
       "    .dataframe thead th {\n",
       "        text-align: right;\n",
       "    }\n",
       "</style>\n",
       "<table border=\"1\" class=\"dataframe\">\n",
       "  <thead>\n",
       "    <tr style=\"text-align: right;\">\n",
       "      <th></th>\n",
       "      <th>Loan_ID</th>\n",
       "      <th>Gender</th>\n",
       "      <th>Married</th>\n",
       "      <th>Dependents</th>\n",
       "      <th>Education</th>\n",
       "      <th>Self_Employed</th>\n",
       "      <th>ApplicantIncome</th>\n",
       "      <th>CoapplicantIncome</th>\n",
       "      <th>LoanAmount</th>\n",
       "      <th>Loan_Amount_Term</th>\n",
       "      <th>Credit_History</th>\n",
       "      <th>Property_Area</th>\n",
       "      <th>Loan_Status</th>\n",
       "    </tr>\n",
       "  </thead>\n",
       "  <tbody>\n",
       "    <tr>\n",
       "      <th>0</th>\n",
       "      <td>LP001002</td>\n",
       "      <td>Male</td>\n",
       "      <td>No</td>\n",
       "      <td>0</td>\n",
       "      <td>Graduate</td>\n",
       "      <td>No</td>\n",
       "      <td>5849</td>\n",
       "      <td>0.0</td>\n",
       "      <td>NaN</td>\n",
       "      <td>360.0</td>\n",
       "      <td>1.0</td>\n",
       "      <td>Urban</td>\n",
       "      <td>Y</td>\n",
       "    </tr>\n",
       "    <tr>\n",
       "      <th>1</th>\n",
       "      <td>LP001003</td>\n",
       "      <td>Male</td>\n",
       "      <td>Yes</td>\n",
       "      <td>1</td>\n",
       "      <td>Graduate</td>\n",
       "      <td>No</td>\n",
       "      <td>4583</td>\n",
       "      <td>1508.0</td>\n",
       "      <td>128.0</td>\n",
       "      <td>360.0</td>\n",
       "      <td>1.0</td>\n",
       "      <td>Rural</td>\n",
       "      <td>N</td>\n",
       "    </tr>\n",
       "    <tr>\n",
       "      <th>2</th>\n",
       "      <td>LP001005</td>\n",
       "      <td>Male</td>\n",
       "      <td>Yes</td>\n",
       "      <td>0</td>\n",
       "      <td>Graduate</td>\n",
       "      <td>Yes</td>\n",
       "      <td>3000</td>\n",
       "      <td>0.0</td>\n",
       "      <td>66.0</td>\n",
       "      <td>360.0</td>\n",
       "      <td>1.0</td>\n",
       "      <td>Urban</td>\n",
       "      <td>Y</td>\n",
       "    </tr>\n",
       "    <tr>\n",
       "      <th>3</th>\n",
       "      <td>LP001006</td>\n",
       "      <td>Male</td>\n",
       "      <td>Yes</td>\n",
       "      <td>0</td>\n",
       "      <td>Not Graduate</td>\n",
       "      <td>No</td>\n",
       "      <td>2583</td>\n",
       "      <td>2358.0</td>\n",
       "      <td>120.0</td>\n",
       "      <td>360.0</td>\n",
       "      <td>1.0</td>\n",
       "      <td>Urban</td>\n",
       "      <td>Y</td>\n",
       "    </tr>\n",
       "    <tr>\n",
       "      <th>4</th>\n",
       "      <td>LP001008</td>\n",
       "      <td>Male</td>\n",
       "      <td>No</td>\n",
       "      <td>0</td>\n",
       "      <td>Graduate</td>\n",
       "      <td>No</td>\n",
       "      <td>6000</td>\n",
       "      <td>0.0</td>\n",
       "      <td>141.0</td>\n",
       "      <td>360.0</td>\n",
       "      <td>1.0</td>\n",
       "      <td>Urban</td>\n",
       "      <td>Y</td>\n",
       "    </tr>\n",
       "    <tr>\n",
       "      <th>...</th>\n",
       "      <td>...</td>\n",
       "      <td>...</td>\n",
       "      <td>...</td>\n",
       "      <td>...</td>\n",
       "      <td>...</td>\n",
       "      <td>...</td>\n",
       "      <td>...</td>\n",
       "      <td>...</td>\n",
       "      <td>...</td>\n",
       "      <td>...</td>\n",
       "      <td>...</td>\n",
       "      <td>...</td>\n",
       "      <td>...</td>\n",
       "    </tr>\n",
       "    <tr>\n",
       "      <th>609</th>\n",
       "      <td>LP002978</td>\n",
       "      <td>Female</td>\n",
       "      <td>No</td>\n",
       "      <td>0</td>\n",
       "      <td>Graduate</td>\n",
       "      <td>No</td>\n",
       "      <td>2900</td>\n",
       "      <td>0.0</td>\n",
       "      <td>71.0</td>\n",
       "      <td>360.0</td>\n",
       "      <td>1.0</td>\n",
       "      <td>Rural</td>\n",
       "      <td>Y</td>\n",
       "    </tr>\n",
       "    <tr>\n",
       "      <th>610</th>\n",
       "      <td>LP002979</td>\n",
       "      <td>Male</td>\n",
       "      <td>Yes</td>\n",
       "      <td>3+</td>\n",
       "      <td>Graduate</td>\n",
       "      <td>No</td>\n",
       "      <td>4106</td>\n",
       "      <td>0.0</td>\n",
       "      <td>40.0</td>\n",
       "      <td>180.0</td>\n",
       "      <td>1.0</td>\n",
       "      <td>Rural</td>\n",
       "      <td>Y</td>\n",
       "    </tr>\n",
       "    <tr>\n",
       "      <th>611</th>\n",
       "      <td>LP002983</td>\n",
       "      <td>Male</td>\n",
       "      <td>Yes</td>\n",
       "      <td>1</td>\n",
       "      <td>Graduate</td>\n",
       "      <td>No</td>\n",
       "      <td>8072</td>\n",
       "      <td>240.0</td>\n",
       "      <td>253.0</td>\n",
       "      <td>360.0</td>\n",
       "      <td>1.0</td>\n",
       "      <td>Urban</td>\n",
       "      <td>Y</td>\n",
       "    </tr>\n",
       "    <tr>\n",
       "      <th>612</th>\n",
       "      <td>LP002984</td>\n",
       "      <td>Male</td>\n",
       "      <td>Yes</td>\n",
       "      <td>2</td>\n",
       "      <td>Graduate</td>\n",
       "      <td>No</td>\n",
       "      <td>7583</td>\n",
       "      <td>0.0</td>\n",
       "      <td>187.0</td>\n",
       "      <td>360.0</td>\n",
       "      <td>1.0</td>\n",
       "      <td>Urban</td>\n",
       "      <td>Y</td>\n",
       "    </tr>\n",
       "    <tr>\n",
       "      <th>613</th>\n",
       "      <td>LP002990</td>\n",
       "      <td>Female</td>\n",
       "      <td>No</td>\n",
       "      <td>0</td>\n",
       "      <td>Graduate</td>\n",
       "      <td>Yes</td>\n",
       "      <td>4583</td>\n",
       "      <td>0.0</td>\n",
       "      <td>133.0</td>\n",
       "      <td>360.0</td>\n",
       "      <td>0.0</td>\n",
       "      <td>Semiurban</td>\n",
       "      <td>N</td>\n",
       "    </tr>\n",
       "  </tbody>\n",
       "</table>\n",
       "<p>614 rows × 13 columns</p>\n",
       "</div>"
      ],
      "text/plain": [
       "      Loan_ID  Gender Married Dependents     Education Self_Employed  \\\n",
       "0    LP001002    Male      No          0      Graduate            No   \n",
       "1    LP001003    Male     Yes          1      Graduate            No   \n",
       "2    LP001005    Male     Yes          0      Graduate           Yes   \n",
       "3    LP001006    Male     Yes          0  Not Graduate            No   \n",
       "4    LP001008    Male      No          0      Graduate            No   \n",
       "..        ...     ...     ...        ...           ...           ...   \n",
       "609  LP002978  Female      No          0      Graduate            No   \n",
       "610  LP002979    Male     Yes         3+      Graduate            No   \n",
       "611  LP002983    Male     Yes          1      Graduate            No   \n",
       "612  LP002984    Male     Yes          2      Graduate            No   \n",
       "613  LP002990  Female      No          0      Graduate           Yes   \n",
       "\n",
       "     ApplicantIncome  CoapplicantIncome  LoanAmount  Loan_Amount_Term  \\\n",
       "0               5849                0.0         NaN             360.0   \n",
       "1               4583             1508.0       128.0             360.0   \n",
       "2               3000                0.0        66.0             360.0   \n",
       "3               2583             2358.0       120.0             360.0   \n",
       "4               6000                0.0       141.0             360.0   \n",
       "..               ...                ...         ...               ...   \n",
       "609             2900                0.0        71.0             360.0   \n",
       "610             4106                0.0        40.0             180.0   \n",
       "611             8072              240.0       253.0             360.0   \n",
       "612             7583                0.0       187.0             360.0   \n",
       "613             4583                0.0       133.0             360.0   \n",
       "\n",
       "     Credit_History Property_Area Loan_Status  \n",
       "0               1.0         Urban           Y  \n",
       "1               1.0         Rural           N  \n",
       "2               1.0         Urban           Y  \n",
       "3               1.0         Urban           Y  \n",
       "4               1.0         Urban           Y  \n",
       "..              ...           ...         ...  \n",
       "609             1.0         Rural           Y  \n",
       "610             1.0         Rural           Y  \n",
       "611             1.0         Urban           Y  \n",
       "612             1.0         Urban           Y  \n",
       "613             0.0     Semiurban           N  \n",
       "\n",
       "[614 rows x 13 columns]"
      ]
     },
     "execution_count": 5,
     "metadata": {},
     "output_type": "execute_result"
    }
   ],
   "source": [
    "dataset"
   ]
  },
  {
   "cell_type": "code",
   "execution_count": 6,
   "id": "fad59e3e",
   "metadata": {},
   "outputs": [
    {
     "data": {
      "text/plain": [
       "(614, 13)"
      ]
     },
     "execution_count": 6,
     "metadata": {},
     "output_type": "execute_result"
    }
   ],
   "source": [
    "\n",
    "# Checking the shape of the dataset\n",
    "dataset.shape"
   ]
  },
  {
   "cell_type": "raw",
   "id": "97705c7b",
   "metadata": {},
   "source": [
    "# from the above output, we can infer that this data contains data of 614 applicants and there,\n",
    "# are 12 attributes on which it is decided whether loan should be given"
   ]
  },
  {
   "cell_type": "code",
   "execution_count": 7,
   "id": "7f07284e",
   "metadata": {},
   "outputs": [
    {
     "data": {
      "text/html": [
       "<div>\n",
       "<style scoped>\n",
       "    .dataframe tbody tr th:only-of-type {\n",
       "        vertical-align: middle;\n",
       "    }\n",
       "\n",
       "    .dataframe tbody tr th {\n",
       "        vertical-align: top;\n",
       "    }\n",
       "\n",
       "    .dataframe thead th {\n",
       "        text-align: right;\n",
       "    }\n",
       "</style>\n",
       "<table border=\"1\" class=\"dataframe\">\n",
       "  <thead>\n",
       "    <tr style=\"text-align: right;\">\n",
       "      <th></th>\n",
       "      <th>Loan_ID</th>\n",
       "      <th>Gender</th>\n",
       "      <th>Married</th>\n",
       "      <th>Dependents</th>\n",
       "      <th>Education</th>\n",
       "      <th>Self_Employed</th>\n",
       "      <th>ApplicantIncome</th>\n",
       "      <th>CoapplicantIncome</th>\n",
       "      <th>LoanAmount</th>\n",
       "      <th>Loan_Amount_Term</th>\n",
       "      <th>Credit_History</th>\n",
       "      <th>Property_Area</th>\n",
       "      <th>Loan_Status</th>\n",
       "    </tr>\n",
       "  </thead>\n",
       "  <tbody>\n",
       "    <tr>\n",
       "      <th>0</th>\n",
       "      <td>LP001002</td>\n",
       "      <td>Male</td>\n",
       "      <td>No</td>\n",
       "      <td>0</td>\n",
       "      <td>Graduate</td>\n",
       "      <td>No</td>\n",
       "      <td>5849</td>\n",
       "      <td>0.0</td>\n",
       "      <td>NaN</td>\n",
       "      <td>360.0</td>\n",
       "      <td>1.0</td>\n",
       "      <td>Urban</td>\n",
       "      <td>Y</td>\n",
       "    </tr>\n",
       "  </tbody>\n",
       "</table>\n",
       "</div>"
      ],
      "text/plain": [
       "    Loan_ID Gender Married Dependents Education Self_Employed  \\\n",
       "0  LP001002   Male      No          0  Graduate            No   \n",
       "\n",
       "   ApplicantIncome  CoapplicantIncome  LoanAmount  Loan_Amount_Term  \\\n",
       "0             5849                0.0         NaN             360.0   \n",
       "\n",
       "   Credit_History Property_Area Loan_Status  \n",
       "0             1.0         Urban           Y  "
      ]
     },
     "execution_count": 7,
     "metadata": {},
     "output_type": "execute_result"
    }
   ],
   "source": [
    "\n",
    "# single instance example from the dataset\n",
    "dataset.head(1)"
   ]
  },
  {
   "cell_type": "code",
   "execution_count": 8,
   "id": "674d0edb",
   "metadata": {},
   "outputs": [
    {
     "data": {
      "text/html": [
       "<div>\n",
       "<style scoped>\n",
       "    .dataframe tbody tr th:only-of-type {\n",
       "        vertical-align: middle;\n",
       "    }\n",
       "\n",
       "    .dataframe tbody tr th {\n",
       "        vertical-align: top;\n",
       "    }\n",
       "\n",
       "    .dataframe thead th {\n",
       "        text-align: right;\n",
       "    }\n",
       "</style>\n",
       "<table border=\"1\" class=\"dataframe\">\n",
       "  <thead>\n",
       "    <tr style=\"text-align: right;\">\n",
       "      <th></th>\n",
       "      <th>Loan_ID</th>\n",
       "      <th>Gender</th>\n",
       "      <th>Married</th>\n",
       "      <th>Dependents</th>\n",
       "      <th>Education</th>\n",
       "      <th>Self_Employed</th>\n",
       "      <th>ApplicantIncome</th>\n",
       "      <th>CoapplicantIncome</th>\n",
       "      <th>LoanAmount</th>\n",
       "      <th>Loan_Amount_Term</th>\n",
       "      <th>Credit_History</th>\n",
       "      <th>Property_Area</th>\n",
       "      <th>Loan_Status</th>\n",
       "    </tr>\n",
       "  </thead>\n",
       "  <tbody>\n",
       "  </tbody>\n",
       "</table>\n",
       "</div>"
      ],
      "text/plain": [
       "Empty DataFrame\n",
       "Columns: [Loan_ID, Gender, Married, Dependents, Education, Self_Employed, ApplicantIncome, CoapplicantIncome, LoanAmount, Loan_Amount_Term, Credit_History, Property_Area, Loan_Status]\n",
       "Index: []"
      ]
     },
     "execution_count": 8,
     "metadata": {},
     "output_type": "execute_result"
    }
   ],
   "source": [
    "# see the attributes of the dataset\n",
    "dataset.head(0)"
   ]
  },
  {
   "cell_type": "raw",
   "id": "8f9285b2",
   "metadata": {},
   "source": [
    "## from above output,\n",
    "## we can infer that dataset has 12 independent variables and 1 dependent variable - Loan_Status"
   ]
  },
  {
   "cell_type": "code",
   "execution_count": 9,
   "id": "90b3871d",
   "metadata": {
    "scrolled": true
   },
   "outputs": [
    {
     "name": "stdout",
     "output_type": "stream",
     "text": [
      "<class 'pandas.core.frame.DataFrame'>\n",
      "RangeIndex: 614 entries, 0 to 613\n",
      "Data columns (total 13 columns):\n",
      " #   Column             Non-Null Count  Dtype  \n",
      "---  ------             --------------  -----  \n",
      " 0   Loan_ID            614 non-null    object \n",
      " 1   Gender             601 non-null    object \n",
      " 2   Married            611 non-null    object \n",
      " 3   Dependents         599 non-null    object \n",
      " 4   Education          614 non-null    object \n",
      " 5   Self_Employed      582 non-null    object \n",
      " 6   ApplicantIncome    614 non-null    int64  \n",
      " 7   CoapplicantIncome  614 non-null    float64\n",
      " 8   LoanAmount         592 non-null    float64\n",
      " 9   Loan_Amount_Term   600 non-null    float64\n",
      " 10  Credit_History     564 non-null    float64\n",
      " 11  Property_Area      614 non-null    object \n",
      " 12  Loan_Status        614 non-null    object \n",
      "dtypes: float64(4), int64(1), object(8)\n",
      "memory usage: 62.5+ KB\n"
     ]
    }
   ],
   "source": [
    "\n",
    "# see the datatype of the dataset attributes\n",
    "dataset.info()"
   ]
  },
  {
   "cell_type": "code",
   "execution_count": 10,
   "id": "7b22be32",
   "metadata": {},
   "outputs": [
    {
     "data": {
      "text/plain": [
       "Loan_ID               0\n",
       "Gender               13\n",
       "Married               3\n",
       "Dependents           15\n",
       "Education             0\n",
       "Self_Employed        32\n",
       "ApplicantIncome       0\n",
       "CoapplicantIncome     0\n",
       "LoanAmount           22\n",
       "Loan_Amount_Term     14\n",
       "Credit_History       50\n",
       "Property_Area         0\n",
       "Loan_Status           0\n",
       "dtype: int64"
      ]
     },
     "execution_count": 10,
     "metadata": {},
     "output_type": "execute_result"
    }
   ],
   "source": [
    "\n",
    "## Check if any null values exist in the datset\n",
    "dataset.isnull().sum()"
   ]
  },
  {
   "cell_type": "raw",
   "id": "94ca0f19",
   "metadata": {},
   "source": [
    "## in above output,we can see there are many missing values, we will deal with it in preprocessing stage"
   ]
  },
  {
   "cell_type": "markdown",
   "id": "993de72a",
   "metadata": {},
   "source": [
    "   "
   ]
  },
  {
   "cell_type": "code",
   "execution_count": 11,
   "id": "29d7e234",
   "metadata": {},
   "outputs": [
    {
     "data": {
      "text/plain": [
       "Male      0.813644\n",
       "Female    0.186356\n",
       "Name: Gender, dtype: float64"
      ]
     },
     "execution_count": 11,
     "metadata": {},
     "output_type": "execute_result"
    }
   ],
   "source": [
    "dataset['Gender'].value_counts(normalize=\"true\")"
   ]
  },
  {
   "cell_type": "code",
   "execution_count": 12,
   "id": "6d0a3271",
   "metadata": {},
   "outputs": [
    {
     "data": {
      "text/plain": [
       "Yes    0.651391\n",
       "No     0.348609\n",
       "Name: Married, dtype: float64"
      ]
     },
     "execution_count": 12,
     "metadata": {},
     "output_type": "execute_result"
    }
   ],
   "source": [
    "dataset['Married'].value_counts(normalize=\"true\")"
   ]
  },
  {
   "cell_type": "code",
   "execution_count": 13,
   "id": "1cfe556e",
   "metadata": {
    "scrolled": true
   },
   "outputs": [
    {
     "data": {
      "text/plain": [
       "0     0.575960\n",
       "1     0.170284\n",
       "2     0.168614\n",
       "3+    0.085142\n",
       "Name: Dependents, dtype: float64"
      ]
     },
     "execution_count": 13,
     "metadata": {},
     "output_type": "execute_result"
    }
   ],
   "source": [
    "dataset['Dependents'].value_counts(normalize=\"true\")"
   ]
  },
  {
   "cell_type": "raw",
   "id": "473d1380",
   "metadata": {},
   "source": [
    "## in above output, we can see that there is a value of type 3+, we have to deal with in preprocessing stage"
   ]
  },
  {
   "cell_type": "code",
   "execution_count": 14,
   "id": "c9c46627",
   "metadata": {},
   "outputs": [
    {
     "data": {
      "text/plain": [
       "Graduate        0.781759\n",
       "Not Graduate    0.218241\n",
       "Name: Education, dtype: float64"
      ]
     },
     "execution_count": 14,
     "metadata": {},
     "output_type": "execute_result"
    }
   ],
   "source": [
    "dataset['Education'].value_counts(normalize=\"true\")"
   ]
  },
  {
   "cell_type": "code",
   "execution_count": 15,
   "id": "39e29eca",
   "metadata": {},
   "outputs": [
    {
     "data": {
      "text/plain": [
       "No     0.859107\n",
       "Yes    0.140893\n",
       "Name: Self_Employed, dtype: float64"
      ]
     },
     "execution_count": 15,
     "metadata": {},
     "output_type": "execute_result"
    }
   ],
   "source": [
    "dataset['Self_Employed'].value_counts(normalize=\"true\")"
   ]
  },
  {
   "cell_type": "code",
   "execution_count": 16,
   "id": "d76f2b0a",
   "metadata": {},
   "outputs": [
    {
     "data": {
      "text/plain": [
       "Semiurban    0.379479\n",
       "Urban        0.328990\n",
       "Rural        0.291531\n",
       "Name: Property_Area, dtype: float64"
      ]
     },
     "execution_count": 16,
     "metadata": {},
     "output_type": "execute_result"
    }
   ],
   "source": [
    "dataset['Property_Area'].value_counts(normalize=\"true\")"
   ]
  },
  {
   "cell_type": "markdown",
   "id": "7c032ce6",
   "metadata": {},
   "source": [
    "   "
   ]
  },
  {
   "cell_type": "raw",
   "id": "1224499f",
   "metadata": {},
   "source": [
    "# visualizing the relationship among variables with plots "
   ]
  },
  {
   "cell_type": "code",
   "execution_count": 17,
   "id": "0c871c3b",
   "metadata": {},
   "outputs": [
    {
     "data": {
      "text/plain": [
       "<AxesSubplot:xlabel='Gender', ylabel='count'>"
      ]
     },
     "execution_count": 17,
     "metadata": {},
     "output_type": "execute_result"
    },
    {
     "data": {
      "image/png": "[encoded data removed]",
      "text/plain": [
       "<Figure size 432x288 with 1 Axes>"
      ]
     },
     "metadata": {
      "needs_background": "light"
     },
     "output_type": "display_data"
    }
   ],
   "source": [
    "## finding relationship between loan_status and Gender\n",
    "sb.countplot(x='Gender', hue='Loan_Status', data = dataset)"
   ]
  },
  {
   "cell_type": "raw",
   "id": "8011a1f0",
   "metadata": {},
   "source": [
    "## we can see that gender does not play much role in loan approval"
   ]
  },
  {
   "cell_type": "markdown",
   "id": "306ffc45",
   "metadata": {},
   "source": [
    "  "
   ]
  },
  {
   "cell_type": "code",
   "execution_count": 18,
   "id": "d9c97743",
   "metadata": {},
   "outputs": [
    {
     "data": {
      "text/plain": [
       "<AxesSubplot:xlabel='Self_Employed', ylabel='count'>"
      ]
     },
     "execution_count": 18,
     "metadata": {},
     "output_type": "execute_result"
    },
    {
     "data": {
      "image/png": "[encoded data removed]",
      "text/plain": [
       "<Figure size 432x288 with 1 Axes>"
      ]
     },
     "metadata": {
      "needs_background": "light"
     },
     "output_type": "display_data"
    }
   ],
   "source": [
    "sb.countplot(x='Self_Employed', hue='Loan_Status', data = dataset)"
   ]
  },
  {
   "cell_type": "raw",
   "id": "da9fb779",
   "metadata": {},
   "source": [
    "## we can see that self employeed people have higher chances of loan approval"
   ]
  },
  {
   "cell_type": "markdown",
   "id": "ef54fa25",
   "metadata": {},
   "source": [
    "   "
   ]
  },
  {
   "cell_type": "code",
   "execution_count": 19,
   "id": "c2b6f650",
   "metadata": {},
   "outputs": [
    {
     "data": {
      "text/plain": [
       "<AxesSubplot:xlabel='Education', ylabel='count'>"
      ]
     },
     "execution_count": 19,
     "metadata": {},
     "output_type": "execute_result"
    },
    {
     "data": {
      "image/png": "[encoded data removed]",
      "text/plain": [
       "<Figure size 432x288 with 1 Axes>"
      ]
     },
     "metadata": {
      "needs_background": "light"
     },
     "output_type": "display_data"
    }
   ],
   "source": [
    "## finding relationship between loan_status and Education\n",
    "sb.countplot(x='Education', hue='Loan_Status', data = dataset)"
   ]
  },
  {
   "cell_type": "raw",
   "id": "a63a90b0",
   "metadata": {},
   "source": [
    "## we can see that gradaute people have a higher percentage of getting lone approved"
   ]
  },
  {
   "cell_type": "markdown",
   "id": "96cf7d62",
   "metadata": {},
   "source": [
    "  "
   ]
  },
  {
   "cell_type": "code",
   "execution_count": 20,
   "id": "c5db1f06",
   "metadata": {},
   "outputs": [
    {
     "data": {
      "text/plain": [
       "<AxesSubplot:xlabel='Married', ylabel='count'>"
      ]
     },
     "execution_count": 20,
     "metadata": {},
     "output_type": "execute_result"
    },
    {
     "data": {
      "image/png": "[encoded data removed]",
      "text/plain": [
       "<Figure size 432x288 with 1 Axes>"
      ]
     },
     "metadata": {
      "needs_background": "light"
     },
     "output_type": "display_data"
    }
   ],
   "source": [
    "## finding relationship between loan_status and Married\n",
    "sb.countplot(x='Married', hue='Loan_Status', data = dataset)"
   ]
  },
  {
   "cell_type": "raw",
   "id": "4f51b75c",
   "metadata": {},
   "source": [
    "## we can see that married people have a higher chance of getting lone approved"
   ]
  },
  {
   "cell_type": "markdown",
   "id": "c25949c3",
   "metadata": {},
   "source": [
    "   "
   ]
  },
  {
   "cell_type": "code",
   "execution_count": 21,
   "id": "8e4e5426",
   "metadata": {},
   "outputs": [
    {
     "data": {
      "text/plain": [
       "<AxesSubplot:xlabel='Credit_History', ylabel='count'>"
      ]
     },
     "execution_count": 21,
     "metadata": {},
     "output_type": "execute_result"
    },
    {
     "data": {
      "image/png": "[encoded data removed]",
      "text/plain": [
       "<Figure size 432x288 with 1 Axes>"
      ]
     },
     "metadata": {
      "needs_background": "light"
     },
     "output_type": "display_data"
    }
   ],
   "source": [
    "## finding relationship between laon_status and Credit_History\n",
    "sb.countplot(x='Credit_History', hue='Loan_Status', data = dataset)"
   ]
  },
  {
   "cell_type": "raw",
   "id": "6c9b5c63",
   "metadata": {},
   "source": [
    "## we can see that having past credit history has very high chanace of loan approval"
   ]
  },
  {
   "cell_type": "markdown",
   "id": "cfdf3e22",
   "metadata": {},
   "source": [
    "     "
   ]
  },
  {
   "cell_type": "code",
   "execution_count": 22,
   "id": "0ceb377f",
   "metadata": {},
   "outputs": [
    {
     "data": {
      "text/plain": [
       "<AxesSubplot:xlabel='Dependents', ylabel='count'>"
      ]
     },
     "execution_count": 22,
     "metadata": {},
     "output_type": "execute_result"
    },
    {
     "data": {
      "image/png": "[encoded data removed]",
      "text/plain": [
       "<Figure size 432x288 with 1 Axes>"
      ]
     },
     "metadata": {
      "needs_background": "light"
     },
     "output_type": "display_data"
    }
   ],
   "source": [
    "## finding relationship between loan_status and Dependents\n",
    "sb.countplot(x='Dependents', hue='Loan_Status', data = dataset)"
   ]
  },
  {
   "cell_type": "raw",
   "id": "a2d02c3d",
   "metadata": {},
   "source": [
    "## persons with 0 dependents have high chance of loan approval"
   ]
  },
  {
   "cell_type": "markdown",
   "id": "f3799a49",
   "metadata": {},
   "source": [
    "  "
   ]
  },
  {
   "cell_type": "code",
   "execution_count": 23,
   "id": "cc2a1c63",
   "metadata": {},
   "outputs": [],
   "source": [
    "## visualizing numerical variables\n"
   ]
  },
  {
   "cell_type": "code",
   "execution_count": 24,
   "id": "12fb7948",
   "metadata": {},
   "outputs": [
    {
     "data": {
      "text/plain": [
       "<AxesSubplot:xlabel='LoanAmount'>"
      ]
     },
     "execution_count": 24,
     "metadata": {},
     "output_type": "execute_result"
    },
    {
     "data": {
      "image/png": "[encoded data removed]",
      "text/plain": [
       "<Figure size 432x288 with 1 Axes>"
      ]
     },
     "metadata": {
      "needs_background": "light"
     },
     "output_type": "display_data"
    }
   ],
   "source": [
    "sb.boxplot(x=dataset[\"LoanAmount\"])"
   ]
  },
  {
   "cell_type": "raw",
   "id": "59451f09",
   "metadata": {},
   "source": [
    "## we can see that laon amount is not normally distributed, so will not work well with algorithms,\n",
    "## so we deal with in preprocessing step\n",
    "##  we can infer that there are some outliers in this LoanAmount variable"
   ]
  },
  {
   "cell_type": "markdown",
   "id": "52daf63b",
   "metadata": {},
   "source": [
    "   "
   ]
  },
  {
   "cell_type": "code",
   "execution_count": 25,
   "id": "2fbe95d5",
   "metadata": {},
   "outputs": [
    {
     "data": {
      "text/plain": [
       "<AxesSubplot:xlabel='ApplicantIncome', ylabel='Count'>"
      ]
     },
     "execution_count": 25,
     "metadata": {},
     "output_type": "execute_result"
    },
    {
     "data": {
      "image/png": "[encoded data removed]",
      "text/plain": [
       "<Figure size 432x288 with 1 Axes>"
      ]
     },
     "metadata": {
      "needs_background": "light"
     },
     "output_type": "display_data"
    }
   ],
   "source": [
    "sb.histplot(data=dataset, x=\"ApplicantIncome\", kde=True)"
   ]
  },
  {
   "cell_type": "code",
   "execution_count": 26,
   "id": "d622bc44",
   "metadata": {},
   "outputs": [
    {
     "data": {
      "text/plain": [
       "<AxesSubplot:xlabel='ApplicantIncome'>"
      ]
     },
     "execution_count": 26,
     "metadata": {},
     "output_type": "execute_result"
    },
    {
     "data": {
      "image/png": "[encoded data removed]",
      "text/plain": [
       "<Figure size 432x288 with 1 Axes>"
      ]
     },
     "metadata": {
      "needs_background": "light"
     },
     "output_type": "display_data"
    }
   ],
   "source": [
    "sb.boxplot(x=dataset[\"ApplicantIncome\"])"
   ]
  },
  {
   "cell_type": "raw",
   "id": "774f6851",
   "metadata": {},
   "source": [
    "## this attribute has outliers and is skewed "
   ]
  },
  {
   "cell_type": "markdown",
   "id": "1e3eea67",
   "metadata": {},
   "source": [
    "   "
   ]
  },
  {
   "cell_type": "code",
   "execution_count": 27,
   "id": "f7a7a632",
   "metadata": {},
   "outputs": [
    {
     "data": {
      "text/plain": [
       "<AxesSubplot:xlabel='CoapplicantIncome', ylabel='Count'>"
      ]
     },
     "execution_count": 27,
     "metadata": {},
     "output_type": "execute_result"
    },
    {
     "data": {
      "image/png": "[encoded data removed]",
      "text/plain": [
       "<Figure size 432x288 with 1 Axes>"
      ]
     },
     "metadata": {
      "needs_background": "light"
     },
     "output_type": "display_data"
    }
   ],
   "source": [
    "sb.histplot(data=dataset, x=\"CoapplicantIncome\", kde=True)"
   ]
  },
  {
   "cell_type": "code",
   "execution_count": 28,
   "id": "4641f198",
   "metadata": {},
   "outputs": [
    {
     "data": {
      "text/plain": [
       "<AxesSubplot:xlabel='CoapplicantIncome'>"
      ]
     },
     "execution_count": 28,
     "metadata": {},
     "output_type": "execute_result"
    },
    {
     "data": {
      "image/png": "[encoded data removed]",
      "text/plain": [
       "<Figure size 432x288 with 1 Axes>"
      ]
     },
     "metadata": {
      "needs_background": "light"
     },
     "output_type": "display_data"
    }
   ],
   "source": [
    "sb.boxplot(x=dataset[\"CoapplicantIncome\"])"
   ]
  },
  {
   "cell_type": "raw",
   "id": "dbefaf5c",
   "metadata": {},
   "source": [
    "## again it has some outliers and it is not normally distributed"
   ]
  },
  {
   "cell_type": "markdown",
   "id": "6c2dc380",
   "metadata": {},
   "source": [
    "  \n",
    "  "
   ]
  },
  {
   "cell_type": "code",
   "execution_count": 29,
   "id": "ce726923",
   "metadata": {},
   "outputs": [
    {
     "data": {
      "text/plain": [
       "<AxesSubplot:>"
      ]
     },
     "execution_count": 29,
     "metadata": {},
     "output_type": "execute_result"
    },
    {
     "data": {
      "image/png": "[encoded data removed]",
      "text/plain": [
       "<Figure size 432x288 with 2 Axes>"
      ]
     },
     "metadata": {
      "needs_background": "light"
     },
     "output_type": "display_data"
    }
   ],
   "source": [
    "## finding the correlation among the attributes\n",
    "\n",
    "# for finding correlation, we convert Loan_Status into a numerical variable i.e. replace yes with 1, No with 04\n",
    "dataset['Loan_Status'].replace({'Y':1, 'N':0}, inplace = True)\n",
    "\n",
    "sb.heatmap(dataset.corr(), annot = True, linewidths=0.5)"
   ]
  },
  {
   "cell_type": "raw",
   "id": "d14fbffe",
   "metadata": {},
   "source": [
    "## in this we can see that credit history has high correlation with Loan_Status, ApplicantIncome with LoanAmount "
   ]
  },
  {
   "cell_type": "markdown",
   "id": "fd1d4f7e",
   "metadata": {},
   "source": [
    "  "
   ]
  },
  {
   "cell_type": "markdown",
   "id": "ce4abbd4",
   "metadata": {},
   "source": [
    " "
   ]
  },
  {
   "cell_type": "markdown",
   "id": "af771a8e",
   "metadata": {},
   "source": [
    "## Preprocessing the data"
   ]
  },
  {
   "cell_type": "raw",
   "id": "d3ae3870",
   "metadata": {},
   "source": [
    "# deal with missing values"
   ]
  },
  {
   "cell_type": "code",
   "execution_count": 30,
   "id": "25d5d5c2",
   "metadata": {},
   "outputs": [],
   "source": [
    "# gender is a categorical variable, so fill missing values with mode\n",
    "pre_dataset = dataset"
   ]
  },
  {
   "cell_type": "code",
   "execution_count": 31,
   "id": "c9d7231e",
   "metadata": {},
   "outputs": [],
   "source": [
    "## as above we saw, that there are many missing values, so we replace categorical_values with their mode, numerical attributes\n",
    "## with their "
   ]
  },
  {
   "cell_type": "code",
   "execution_count": 32,
   "id": "57760073",
   "metadata": {},
   "outputs": [],
   "source": [
    "## gender has 13 missing values\n",
    "pre_dataset['Gender'].fillna(pre_dataset['Gender'].mode()[0], inplace = True)"
   ]
  },
  {
   "cell_type": "code",
   "execution_count": 33,
   "id": "5c29e0c4",
   "metadata": {},
   "outputs": [],
   "source": [
    "## married has 3 missing values\n",
    "pre_dataset['Married'].fillna(pre_dataset['Married'].mode()[0], inplace = True)"
   ]
  },
  {
   "cell_type": "code",
   "execution_count": 34,
   "id": "6377b708",
   "metadata": {},
   "outputs": [],
   "source": [
    "## Self_Employed has 32 missing values\n",
    "pre_dataset['Self_Employed'].fillna(pre_dataset['Self_Employed'].mode()[0], inplace = True)"
   ]
  },
  {
   "cell_type": "code",
   "execution_count": 35,
   "id": "32f5bb44",
   "metadata": {},
   "outputs": [],
   "source": [
    "## Credit_History has 50 missing values\n",
    "pre_dataset['Credit_History'].fillna(pre_dataset['Credit_History'].mode()[0], inplace = True)"
   ]
  },
  {
   "cell_type": "code",
   "execution_count": 36,
   "id": "a78d0558",
   "metadata": {},
   "outputs": [],
   "source": [
    "## Dependents has 15 missing values\n",
    "pre_dataset['Dependents'].fillna(pre_dataset['Dependents'].mode()[0], inplace = True)"
   ]
  },
  {
   "cell_type": "code",
   "execution_count": 37,
   "id": "de9d3689",
   "metadata": {},
   "outputs": [],
   "source": [
    "## LoanAmount has 22 missing values, as it has outliers also, so we replace with median\n",
    "pre_dataset['LoanAmount'].fillna(pre_dataset['LoanAmount'].median(), inplace = True)"
   ]
  },
  {
   "cell_type": "code",
   "execution_count": 38,
   "id": "28baa9a7",
   "metadata": {},
   "outputs": [
    {
     "data": {
      "text/plain": [
       "360.0    512\n",
       "180.0     44\n",
       "480.0     15\n",
       "300.0     13\n",
       "84.0       4\n",
       "240.0      4\n",
       "120.0      3\n",
       "36.0       2\n",
       "60.0       2\n",
       "12.0       1\n",
       "Name: Loan_Amount_Term, dtype: int64"
      ]
     },
     "execution_count": 38,
     "metadata": {},
     "output_type": "execute_result"
    }
   ],
   "source": [
    "## Loan_Amount_Term has 14 missing values, nut it has many common values, as we can see below\n",
    "pre_dataset['Loan_Amount_Term'].value_counts()"
   ]
  },
  {
   "cell_type": "code",
   "execution_count": 39,
   "id": "0500ec1a",
   "metadata": {},
   "outputs": [],
   "source": [
    "## so, as we can see above that it has one value repeated the most(512), so we replace it with this value, i.e. with its mode"
   ]
  },
  {
   "cell_type": "code",
   "execution_count": 40,
   "id": "c9dd0137",
   "metadata": {},
   "outputs": [],
   "source": [
    "pre_dataset['Loan_Amount_Term'].fillna(pre_dataset['Loan_Amount_Term'].mode()[0], inplace = True)"
   ]
  },
  {
   "cell_type": "code",
   "execution_count": 41,
   "id": "706ae8a6",
   "metadata": {},
   "outputs": [
    {
     "data": {
      "text/plain": [
       "Loan_ID              0\n",
       "Gender               0\n",
       "Married              0\n",
       "Dependents           0\n",
       "Education            0\n",
       "Self_Employed        0\n",
       "ApplicantIncome      0\n",
       "CoapplicantIncome    0\n",
       "LoanAmount           0\n",
       "Loan_Amount_Term     0\n",
       "Credit_History       0\n",
       "Property_Area        0\n",
       "Loan_Status          0\n",
       "dtype: int64"
      ]
     },
     "execution_count": 41,
     "metadata": {},
     "output_type": "execute_result"
    }
   ],
   "source": [
    "## check null values\n",
    "pre_dataset.isnull().sum()"
   ]
  },
  {
   "cell_type": "code",
   "execution_count": 42,
   "id": "05826bc9",
   "metadata": {},
   "outputs": [
    {
     "data": {
      "text/html": [
       "<div>\n",
       "<style scoped>\n",
       "    .dataframe tbody tr th:only-of-type {\n",
       "        vertical-align: middle;\n",
       "    }\n",
       "\n",
       "    .dataframe tbody tr th {\n",
       "        vertical-align: top;\n",
       "    }\n",
       "\n",
       "    .dataframe thead th {\n",
       "        text-align: right;\n",
       "    }\n",
       "</style>\n",
       "<table border=\"1\" class=\"dataframe\">\n",
       "  <thead>\n",
       "    <tr style=\"text-align: right;\">\n",
       "      <th></th>\n",
       "      <th>Loan_ID</th>\n",
       "      <th>Gender</th>\n",
       "      <th>Married</th>\n",
       "      <th>Dependents</th>\n",
       "      <th>Education</th>\n",
       "      <th>Self_Employed</th>\n",
       "      <th>ApplicantIncome</th>\n",
       "      <th>CoapplicantIncome</th>\n",
       "      <th>LoanAmount</th>\n",
       "      <th>Loan_Amount_Term</th>\n",
       "      <th>Credit_History</th>\n",
       "      <th>Property_Area</th>\n",
       "      <th>Loan_Status</th>\n",
       "    </tr>\n",
       "  </thead>\n",
       "  <tbody>\n",
       "    <tr>\n",
       "      <th>0</th>\n",
       "      <td>LP001002</td>\n",
       "      <td>Male</td>\n",
       "      <td>No</td>\n",
       "      <td>0</td>\n",
       "      <td>Graduate</td>\n",
       "      <td>No</td>\n",
       "      <td>5849</td>\n",
       "      <td>0.0</td>\n",
       "      <td>128.0</td>\n",
       "      <td>360.0</td>\n",
       "      <td>1.0</td>\n",
       "      <td>Urban</td>\n",
       "      <td>1</td>\n",
       "    </tr>\n",
       "    <tr>\n",
       "      <th>1</th>\n",
       "      <td>LP001003</td>\n",
       "      <td>Male</td>\n",
       "      <td>Yes</td>\n",
       "      <td>1</td>\n",
       "      <td>Graduate</td>\n",
       "      <td>No</td>\n",
       "      <td>4583</td>\n",
       "      <td>1508.0</td>\n",
       "      <td>128.0</td>\n",
       "      <td>360.0</td>\n",
       "      <td>1.0</td>\n",
       "      <td>Rural</td>\n",
       "      <td>0</td>\n",
       "    </tr>\n",
       "    <tr>\n",
       "      <th>2</th>\n",
       "      <td>LP001005</td>\n",
       "      <td>Male</td>\n",
       "      <td>Yes</td>\n",
       "      <td>0</td>\n",
       "      <td>Graduate</td>\n",
       "      <td>Yes</td>\n",
       "      <td>3000</td>\n",
       "      <td>0.0</td>\n",
       "      <td>66.0</td>\n",
       "      <td>360.0</td>\n",
       "      <td>1.0</td>\n",
       "      <td>Urban</td>\n",
       "      <td>1</td>\n",
       "    </tr>\n",
       "    <tr>\n",
       "      <th>3</th>\n",
       "      <td>LP001006</td>\n",
       "      <td>Male</td>\n",
       "      <td>Yes</td>\n",
       "      <td>0</td>\n",
       "      <td>Not Graduate</td>\n",
       "      <td>No</td>\n",
       "      <td>2583</td>\n",
       "      <td>2358.0</td>\n",
       "      <td>120.0</td>\n",
       "      <td>360.0</td>\n",
       "      <td>1.0</td>\n",
       "      <td>Urban</td>\n",
       "      <td>1</td>\n",
       "    </tr>\n",
       "    <tr>\n",
       "      <th>4</th>\n",
       "      <td>LP001008</td>\n",
       "      <td>Male</td>\n",
       "      <td>No</td>\n",
       "      <td>0</td>\n",
       "      <td>Graduate</td>\n",
       "      <td>No</td>\n",
       "      <td>6000</td>\n",
       "      <td>0.0</td>\n",
       "      <td>141.0</td>\n",
       "      <td>360.0</td>\n",
       "      <td>1.0</td>\n",
       "      <td>Urban</td>\n",
       "      <td>1</td>\n",
       "    </tr>\n",
       "    <tr>\n",
       "      <th>5</th>\n",
       "      <td>LP001011</td>\n",
       "      <td>Male</td>\n",
       "      <td>Yes</td>\n",
       "      <td>2</td>\n",
       "      <td>Graduate</td>\n",
       "      <td>Yes</td>\n",
       "      <td>5417</td>\n",
       "      <td>4196.0</td>\n",
       "      <td>267.0</td>\n",
       "      <td>360.0</td>\n",
       "      <td>1.0</td>\n",
       "      <td>Urban</td>\n",
       "      <td>1</td>\n",
       "    </tr>\n",
       "    <tr>\n",
       "      <th>6</th>\n",
       "      <td>LP001013</td>\n",
       "      <td>Male</td>\n",
       "      <td>Yes</td>\n",
       "      <td>0</td>\n",
       "      <td>Not Graduate</td>\n",
       "      <td>No</td>\n",
       "      <td>2333</td>\n",
       "      <td>1516.0</td>\n",
       "      <td>95.0</td>\n",
       "      <td>360.0</td>\n",
       "      <td>1.0</td>\n",
       "      <td>Urban</td>\n",
       "      <td>1</td>\n",
       "    </tr>\n",
       "  </tbody>\n",
       "</table>\n",
       "</div>"
      ],
      "text/plain": [
       "    Loan_ID Gender Married Dependents     Education Self_Employed  \\\n",
       "0  LP001002   Male      No          0      Graduate            No   \n",
       "1  LP001003   Male     Yes          1      Graduate            No   \n",
       "2  LP001005   Male     Yes          0      Graduate           Yes   \n",
       "3  LP001006   Male     Yes          0  Not Graduate            No   \n",
       "4  LP001008   Male      No          0      Graduate            No   \n",
       "5  LP001011   Male     Yes          2      Graduate           Yes   \n",
       "6  LP001013   Male     Yes          0  Not Graduate            No   \n",
       "\n",
       "   ApplicantIncome  CoapplicantIncome  LoanAmount  Loan_Amount_Term  \\\n",
       "0             5849                0.0       128.0             360.0   \n",
       "1             4583             1508.0       128.0             360.0   \n",
       "2             3000                0.0        66.0             360.0   \n",
       "3             2583             2358.0       120.0             360.0   \n",
       "4             6000                0.0       141.0             360.0   \n",
       "5             5417             4196.0       267.0             360.0   \n",
       "6             2333             1516.0        95.0             360.0   \n",
       "\n",
       "   Credit_History Property_Area  Loan_Status  \n",
       "0             1.0         Urban            1  \n",
       "1             1.0         Rural            0  \n",
       "2             1.0         Urban            1  \n",
       "3             1.0         Urban            1  \n",
       "4             1.0         Urban            1  \n",
       "5             1.0         Urban            1  \n",
       "6             1.0         Urban            1  "
      ]
     },
     "execution_count": 42,
     "metadata": {},
     "output_type": "execute_result"
    }
   ],
   "source": [
    "## after replacing missing values, dataset is as follows\n",
    "pre_dataset.head(7)"
   ]
  },
  {
   "cell_type": "markdown",
   "id": "888df373",
   "metadata": {},
   "source": [
    "  "
   ]
  },
  {
   "cell_type": "markdown",
   "id": "a317ecb3",
   "metadata": {},
   "source": [
    "  "
   ]
  },
  {
   "cell_type": "code",
   "execution_count": 43,
   "id": "fa14d285",
   "metadata": {},
   "outputs": [],
   "source": [
    "## also categorical variables such as Gender, Married, Education, Self Employed have textual values which cannot work with  \n",
    "## our machine-learning algorithms, so we transgorm them into numerical variables using a technique called as \n",
    "## one-hot-encoding"
   ]
  },
  {
   "cell_type": "code",
   "execution_count": 44,
   "id": "8e975ed7",
   "metadata": {},
   "outputs": [],
   "source": [
    "# one-hot-encoding the Gender column\n",
    "pre_dataset = pd.get_dummies(pre_dataset, columns = ['Gender'])"
   ]
  },
  {
   "cell_type": "code",
   "execution_count": 45,
   "id": "9d68d1cb",
   "metadata": {},
   "outputs": [
    {
     "data": {
      "text/html": [
       "<div>\n",
       "<style scoped>\n",
       "    .dataframe tbody tr th:only-of-type {\n",
       "        vertical-align: middle;\n",
       "    }\n",
       "\n",
       "    .dataframe tbody tr th {\n",
       "        vertical-align: top;\n",
       "    }\n",
       "\n",
       "    .dataframe thead th {\n",
       "        text-align: right;\n",
       "    }\n",
       "</style>\n",
       "<table border=\"1\" class=\"dataframe\">\n",
       "  <thead>\n",
       "    <tr style=\"text-align: right;\">\n",
       "      <th></th>\n",
       "      <th>Loan_ID</th>\n",
       "      <th>Married</th>\n",
       "      <th>Dependents</th>\n",
       "      <th>Education</th>\n",
       "      <th>Self_Employed</th>\n",
       "      <th>ApplicantIncome</th>\n",
       "      <th>CoapplicantIncome</th>\n",
       "      <th>LoanAmount</th>\n",
       "      <th>Loan_Amount_Term</th>\n",
       "      <th>Credit_History</th>\n",
       "      <th>Property_Area</th>\n",
       "      <th>Loan_Status</th>\n",
       "      <th>Gender_Female</th>\n",
       "      <th>Gender_Male</th>\n",
       "    </tr>\n",
       "  </thead>\n",
       "  <tbody>\n",
       "  </tbody>\n",
       "</table>\n",
       "</div>"
      ],
      "text/plain": [
       "Empty DataFrame\n",
       "Columns: [Loan_ID, Married, Dependents, Education, Self_Employed, ApplicantIncome, CoapplicantIncome, LoanAmount, Loan_Amount_Term, Credit_History, Property_Area, Loan_Status, Gender_Female, Gender_Male]\n",
       "Index: []"
      ]
     },
     "execution_count": 45,
     "metadata": {},
     "output_type": "execute_result"
    }
   ],
   "source": [
    "pre_dataset.head(0)"
   ]
  },
  {
   "cell_type": "code",
   "execution_count": 46,
   "id": "aea838ca",
   "metadata": {},
   "outputs": [],
   "source": [
    "## as one-hot-encoding has created 2 columns for gender we keep only 1 column, since if one(gender) is 0, obviously other will be 1\n",
    "pre_dataset.drop('Gender_Male', axis = 1, inplace = True)\n",
    "pre_dataset.rename(columns = {'Gender_Female': 'Gender'}, inplace = True)"
   ]
  },
  {
   "cell_type": "code",
   "execution_count": 47,
   "id": "db78fd91",
   "metadata": {},
   "outputs": [
    {
     "data": {
      "text/html": [
       "<div>\n",
       "<style scoped>\n",
       "    .dataframe tbody tr th:only-of-type {\n",
       "        vertical-align: middle;\n",
       "    }\n",
       "\n",
       "    .dataframe tbody tr th {\n",
       "        vertical-align: top;\n",
       "    }\n",
       "\n",
       "    .dataframe thead th {\n",
       "        text-align: right;\n",
       "    }\n",
       "</style>\n",
       "<table border=\"1\" class=\"dataframe\">\n",
       "  <thead>\n",
       "    <tr style=\"text-align: right;\">\n",
       "      <th></th>\n",
       "      <th>Loan_ID</th>\n",
       "      <th>Married</th>\n",
       "      <th>Dependents</th>\n",
       "      <th>Education</th>\n",
       "      <th>Self_Employed</th>\n",
       "      <th>ApplicantIncome</th>\n",
       "      <th>CoapplicantIncome</th>\n",
       "      <th>LoanAmount</th>\n",
       "      <th>Loan_Amount_Term</th>\n",
       "      <th>Credit_History</th>\n",
       "      <th>Property_Area</th>\n",
       "      <th>Loan_Status</th>\n",
       "      <th>Gender</th>\n",
       "    </tr>\n",
       "  </thead>\n",
       "  <tbody>\n",
       "  </tbody>\n",
       "</table>\n",
       "</div>"
      ],
      "text/plain": [
       "Empty DataFrame\n",
       "Columns: [Loan_ID, Married, Dependents, Education, Self_Employed, ApplicantIncome, CoapplicantIncome, LoanAmount, Loan_Amount_Term, Credit_History, Property_Area, Loan_Status, Gender]\n",
       "Index: []"
      ]
     },
     "execution_count": 47,
     "metadata": {},
     "output_type": "execute_result"
    }
   ],
   "source": [
    "pre_dataset.head(0) ## now female will denote 1 and male will denote0, as we taken Gender_Feale column after encoding"
   ]
  },
  {
   "cell_type": "code",
   "execution_count": 48,
   "id": "b8bc921e",
   "metadata": {},
   "outputs": [],
   "source": [
    "## now we convert married to numerical values\n",
    "pre_dataset['Married'].replace({'Yes':1, 'No':0}, inplace = True)"
   ]
  },
  {
   "cell_type": "code",
   "execution_count": 49,
   "id": "5b750896",
   "metadata": {},
   "outputs": [],
   "source": [
    "## now we convert Education to numerical values\n",
    "pre_dataset['Education'].replace({'Graduate':1, 'Not Graduate':0}, inplace = True)"
   ]
  },
  {
   "cell_type": "code",
   "execution_count": 50,
   "id": "5d2ddf5d",
   "metadata": {},
   "outputs": [],
   "source": [
    "## now we convert Self_Employed to numerical values\n",
    "pre_dataset['Self_Employed'].replace({'Yes':1, 'No':0}, inplace = True)"
   ]
  },
  {
   "cell_type": "code",
   "execution_count": 51,
   "id": "fe859a10",
   "metadata": {},
   "outputs": [],
   "source": [
    "## now we convert Property_Area to numerical values\n",
    "prop_area = pd.get_dummies(pre_dataset['Property_Area']).drop('Urban', axis = 1)\n",
    "pre_dataset = pd.concat([pre_dataset, prop_area], axis = 1)\n",
    "pre_dataset = pre_dataset.drop('Property_Area', axis = 1)"
   ]
  },
  {
   "cell_type": "code",
   "execution_count": 52,
   "id": "8f82e8ee",
   "metadata": {},
   "outputs": [],
   "source": [
    "## now we have dependents variable ,it contains a value 3+ which is textual, so we convert it into 3\n",
    "pre_dataset['Dependents'].replace({'3+':3}, inplace = True)"
   ]
  },
  {
   "cell_type": "code",
   "execution_count": 53,
   "id": "481d97cc",
   "metadata": {},
   "outputs": [],
   "source": [
    "## as Loan_ID is not useful in predicting for loan approval, so we remove it\n",
    "pre_dataset = pre_dataset.drop('Loan_ID', axis = 1)"
   ]
  },
  {
   "cell_type": "markdown",
   "id": "5c79d70e",
   "metadata": {},
   "source": [
    "  "
   ]
  },
  {
   "cell_type": "markdown",
   "id": "4b6f42b5",
   "metadata": {},
   "source": [
    "  "
   ]
  },
  {
   "cell_type": "raw",
   "id": "87797764",
   "metadata": {},
   "source": [
    "## now we handle the skewness or un-normalized data in our dataset as it will affect our prediction, \n",
    "## in above output, we have seen that columns LaonAmount, ApplicantIncome, CoapplicantIncome have un-normalization\n",
    "## we use numpy log_transformation for this"
   ]
  },
  {
   "cell_type": "code",
   "execution_count": 54,
   "id": "b912336a",
   "metadata": {},
   "outputs": [],
   "source": [
    "pre_dataset['LoanAmountLog'] = np.log(dataset['LoanAmount'])"
   ]
  },
  {
   "cell_type": "code",
   "execution_count": 55,
   "id": "f0069aa1",
   "metadata": {},
   "outputs": [],
   "source": [
    "pre_dataset['IncomeTotal'] = dataset['ApplicantIncome'] + dataset['CoapplicantIncome']\n",
    "pre_dataset['IncomeTotalLog'] = np.log(pre_dataset['IncomeTotal'])"
   ]
  },
  {
   "cell_type": "code",
   "execution_count": 56,
   "id": "7daf559b",
   "metadata": {},
   "outputs": [
    {
     "data": {
      "text/plain": [
       "<AxesSubplot:xlabel='LoanAmountLog', ylabel='Count'>"
      ]
     },
     "execution_count": 56,
     "metadata": {},
     "output_type": "execute_result"
    },
    {
     "data": {
      "image/png": "[encoded data removed]",
      "text/plain": [
       "<Figure size 432x288 with 1 Axes>"
      ]
     },
     "metadata": {
      "needs_background": "light"
     },
     "output_type": "display_data"
    }
   ],
   "source": [
    "## now we check the data whether it still has skewness\n",
    "## first we check for loan amount\n",
    "sb.histplot(data=pre_dataset, x=\"LoanAmountLog\", kde=True)"
   ]
  },
  {
   "cell_type": "code",
   "execution_count": 57,
   "id": "10666c66",
   "metadata": {},
   "outputs": [
    {
     "data": {
      "text/plain": [
       "<AxesSubplot:xlabel='IncomeTotalLog', ylabel='Count'>"
      ]
     },
     "execution_count": 57,
     "metadata": {},
     "output_type": "execute_result"
    },
    {
     "data": {
      "image/png": "[encoded data removed]",
      "text/plain": [
       "<Figure size 432x288 with 1 Axes>"
      ]
     },
     "metadata": {
      "needs_background": "light"
     },
     "output_type": "display_data"
    }
   ],
   "source": [
    "## checking for income \n",
    "sb.histplot(data=pre_dataset, x=\"IncomeTotalLog\", kde=True)"
   ]
  },
  {
   "cell_type": "markdown",
   "id": "de756e09",
   "metadata": {},
   "source": [
    "  "
   ]
  },
  {
   "cell_type": "code",
   "execution_count": 288,
   "id": "87dbdb2c",
   "metadata": {},
   "outputs": [],
   "source": [
    "## now we remove columns for which we have added normalized columns, like loanamountlog, totalincomelog\n",
    "pre_dataset = pre_dataset.drop(['ApplicantIncome', 'CoapplicantIncome', 'LoanAmount', 'IncomeTotal'], axis = 1)"
   ]
  },
  {
   "cell_type": "code",
   "execution_count": 289,
   "id": "e8c64749",
   "metadata": {},
   "outputs": [
    {
     "data": {
      "text/html": [
       "<div>\n",
       "<style scoped>\n",
       "    .dataframe tbody tr th:only-of-type {\n",
       "        vertical-align: middle;\n",
       "    }\n",
       "\n",
       "    .dataframe tbody tr th {\n",
       "        vertical-align: top;\n",
       "    }\n",
       "\n",
       "    .dataframe thead th {\n",
       "        text-align: right;\n",
       "    }\n",
       "</style>\n",
       "<table border=\"1\" class=\"dataframe\">\n",
       "  <thead>\n",
       "    <tr style=\"text-align: right;\">\n",
       "      <th></th>\n",
       "      <th>Married</th>\n",
       "      <th>Dependents</th>\n",
       "      <th>Education</th>\n",
       "      <th>Self_Employed</th>\n",
       "      <th>Loan_Amount_Term</th>\n",
       "      <th>Credit_History</th>\n",
       "      <th>Loan_Status</th>\n",
       "      <th>Gender</th>\n",
       "      <th>Rural</th>\n",
       "      <th>Semiurban</th>\n",
       "      <th>LoanAmountLog</th>\n",
       "      <th>IncomeTotalLog</th>\n",
       "    </tr>\n",
       "  </thead>\n",
       "  <tbody>\n",
       "    <tr>\n",
       "      <th>0</th>\n",
       "      <td>0</td>\n",
       "      <td>0</td>\n",
       "      <td>1</td>\n",
       "      <td>0</td>\n",
       "      <td>360.0</td>\n",
       "      <td>1.0</td>\n",
       "      <td>1</td>\n",
       "      <td>0</td>\n",
       "      <td>0</td>\n",
       "      <td>0</td>\n",
       "      <td>4.85203</td>\n",
       "      <td>8.674026</td>\n",
       "    </tr>\n",
       "    <tr>\n",
       "      <th>1</th>\n",
       "      <td>1</td>\n",
       "      <td>1</td>\n",
       "      <td>1</td>\n",
       "      <td>0</td>\n",
       "      <td>360.0</td>\n",
       "      <td>1.0</td>\n",
       "      <td>0</td>\n",
       "      <td>0</td>\n",
       "      <td>1</td>\n",
       "      <td>0</td>\n",
       "      <td>4.85203</td>\n",
       "      <td>8.714568</td>\n",
       "    </tr>\n",
       "  </tbody>\n",
       "</table>\n",
       "</div>"
      ],
      "text/plain": [
       "   Married Dependents  Education  Self_Employed  Loan_Amount_Term  \\\n",
       "0        0          0          1              0             360.0   \n",
       "1        1          1          1              0             360.0   \n",
       "\n",
       "   Credit_History  Loan_Status  Gender  Rural  Semiurban  LoanAmountLog  \\\n",
       "0             1.0            1       0      0          0        4.85203   \n",
       "1             1.0            0       0      1          0        4.85203   \n",
       "\n",
       "   IncomeTotalLog  \n",
       "0        8.674026  \n",
       "1        8.714568  "
      ]
     },
     "execution_count": 289,
     "metadata": {},
     "output_type": "execute_result"
    }
   ],
   "source": [
    "## after preprocessing data looks as follows\n",
    "pre_dataset.head(2)"
   ]
  },
  {
   "cell_type": "markdown",
   "id": "46a76f5e",
   "metadata": {},
   "source": [
    " "
   ]
  },
  {
   "cell_type": "markdown",
   "id": "36fa0c70",
   "metadata": {},
   "source": [
    " "
   ]
  },
  {
   "cell_type": "markdown",
   "id": "43b55eff",
   "metadata": {},
   "source": [
    "## Splitting Data into Independent, Dependent variables, and Train and Test Data"
   ]
  },
  {
   "cell_type": "code",
   "execution_count": 290,
   "id": "3b28a39f",
   "metadata": {},
   "outputs": [],
   "source": [
    "data_X = pre_dataset.drop('Loan_Status', axis = 1)  # data_X will contain the 'predictor' or the 'independent variables'"
   ]
  },
  {
   "cell_type": "code",
   "execution_count": 291,
   "id": "cd0b5834",
   "metadata": {},
   "outputs": [],
   "source": [
    "data_y = pre_dataset['Loan_Status'] # data_Y will contain the 'target' or the 'dependent variable'"
   ]
  },
  {
   "cell_type": "code",
   "execution_count": 292,
   "id": "8f191858",
   "metadata": {},
   "outputs": [
    {
     "data": {
      "text/html": [
       "<div>\n",
       "<style scoped>\n",
       "    .dataframe tbody tr th:only-of-type {\n",
       "        vertical-align: middle;\n",
       "    }\n",
       "\n",
       "    .dataframe tbody tr th {\n",
       "        vertical-align: top;\n",
       "    }\n",
       "\n",
       "    .dataframe thead th {\n",
       "        text-align: right;\n",
       "    }\n",
       "</style>\n",
       "<table border=\"1\" class=\"dataframe\">\n",
       "  <thead>\n",
       "    <tr style=\"text-align: right;\">\n",
       "      <th></th>\n",
       "      <th>Married</th>\n",
       "      <th>Dependents</th>\n",
       "      <th>Education</th>\n",
       "      <th>Self_Employed</th>\n",
       "      <th>Loan_Amount_Term</th>\n",
       "      <th>Credit_History</th>\n",
       "      <th>Gender</th>\n",
       "      <th>Rural</th>\n",
       "      <th>Semiurban</th>\n",
       "      <th>LoanAmountLog</th>\n",
       "      <th>IncomeTotalLog</th>\n",
       "    </tr>\n",
       "  </thead>\n",
       "  <tbody>\n",
       "    <tr>\n",
       "      <th>0</th>\n",
       "      <td>0</td>\n",
       "      <td>0</td>\n",
       "      <td>1</td>\n",
       "      <td>0</td>\n",
       "      <td>360.0</td>\n",
       "      <td>1.0</td>\n",
       "      <td>0</td>\n",
       "      <td>0</td>\n",
       "      <td>0</td>\n",
       "      <td>4.85203</td>\n",
       "      <td>8.674026</td>\n",
       "    </tr>\n",
       "  </tbody>\n",
       "</table>\n",
       "</div>"
      ],
      "text/plain": [
       "   Married Dependents  Education  Self_Employed  Loan_Amount_Term  \\\n",
       "0        0          0          1              0             360.0   \n",
       "\n",
       "   Credit_History  Gender  Rural  Semiurban  LoanAmountLog  IncomeTotalLog  \n",
       "0             1.0       0      0          0        4.85203        8.674026  "
      ]
     },
     "execution_count": 292,
     "metadata": {},
     "output_type": "execute_result"
    }
   ],
   "source": [
    "## checking the data_X\n",
    "data_X.head(1)"
   ]
  },
  {
   "cell_type": "code",
   "execution_count": 293,
   "id": "3c6a68df",
   "metadata": {},
   "outputs": [
    {
     "data": {
      "text/plain": [
       "0    1\n",
       "Name: Loan_Status, dtype: int64"
      ]
     },
     "execution_count": 293,
     "metadata": {},
     "output_type": "execute_result"
    }
   ],
   "source": [
    "## checking the data_Y\n",
    "data_y.head(1)"
   ]
  },
  {
   "cell_type": "markdown",
   "id": "34150210",
   "metadata": {},
   "source": [
    "  "
   ]
  },
  {
   "cell_type": "markdown",
   "id": "26e77648",
   "metadata": {},
   "source": [
    "  "
   ]
  },
  {
   "cell_type": "raw",
   "id": "8bf76c73",
   "metadata": {},
   "source": [
    "## now we split the X and Y data into train and test splits for training the models and testing them \n",
    "## we use the sklearn library and split the data into 80:20 ratio of training : testing data"
   ]
  },
  {
   "cell_type": "code",
   "execution_count": 294,
   "id": "ae8ad6a0",
   "metadata": {},
   "outputs": [],
   "source": [
    "from sklearn.model_selection import train_test_split"
   ]
  },
  {
   "cell_type": "code",
   "execution_count": 295,
   "id": "c8942af5",
   "metadata": {},
   "outputs": [],
   "source": [
    "data_X_train, data_X_test, data_y_train, data_y_test = train_test_split(data_X, data_y, test_size = 0.2, random_state = 7) \n",
    "\n",
    "# means 20% as test data and 80% as training data"
   ]
  },
  {
   "cell_type": "code",
   "execution_count": 296,
   "id": "ffc69d79",
   "metadata": {},
   "outputs": [
    {
     "name": "stdout",
     "output_type": "stream",
     "text": [
      "X_train_shape : (491, 11) , X_test_shape : (123, 11)\n",
      "\n",
      "y_train_shape : (491,) , y_test_shape : (123,)\n"
     ]
    }
   ],
   "source": [
    "## checking the shape of the X_train, y_train and test datasets\n",
    "print(\"X_train_shape : {} , X_test_shape : {}\\n\".format(data_X_train.shape, data_X_test.shape))\n",
    "print(\"y_train_shape : {} , y_test_shape : {}\".format(data_y_train.shape, data_y_test.shape))"
   ]
  },
  {
   "cell_type": "markdown",
   "id": "4bb86454",
   "metadata": {},
   "source": [
    "  "
   ]
  },
  {
   "cell_type": "markdown",
   "id": "5230b031",
   "metadata": {},
   "source": [
    "  "
   ]
  },
  {
   "cell_type": "markdown",
   "id": "91f141e4",
   "metadata": {},
   "source": [
    "## Building Model"
   ]
  },
  {
   "cell_type": "raw",
   "id": "0d1e3a70",
   "metadata": {},
   "source": [
    "## as it is a classification problem, so machine learning algorithms we will use here are :\n",
    "## Logistic Regression, Naive Bayes, Decision Tree, Random Forest, Support Vector Machine"
   ]
  },
  {
   "cell_type": "markdown",
   "id": "af9c18a5",
   "metadata": {},
   "source": [
    "  "
   ]
  },
  {
   "cell_type": "markdown",
   "id": "919400e4",
   "metadata": {},
   "source": [
    "### Naive Bayes"
   ]
  },
  {
   "cell_type": "code",
   "execution_count": 297,
   "id": "23cf2ce6",
   "metadata": {},
   "outputs": [
    {
     "data": {
      "text/plain": [
       "array([0, 1, 0, 1, 1, 0, 1, 1, 1, 1, 1, 1, 1, 1, 1, 1, 1, 1, 0, 1, 1, 0,\n",
       "       1, 1, 1, 1, 1, 1, 1, 1, 1, 1, 1, 1, 1, 0, 1, 1, 1, 0, 1, 1, 1, 1,\n",
       "       1, 1, 1, 1, 0, 1, 1, 1, 1, 1, 1, 1, 1, 1, 1, 0, 1, 1, 1, 1, 1, 1,\n",
       "       1, 0, 1, 1, 1, 1, 1, 1, 1, 1, 1, 1, 0, 1, 1, 1, 1, 1, 1, 0, 0, 1,\n",
       "       1, 1, 1, 1, 0, 0, 1, 1, 1, 1, 1, 1, 0, 1, 0, 1, 1, 1, 1, 0, 0, 1,\n",
       "       1, 0, 1, 0, 1, 1, 1, 1, 0, 1, 1, 1, 1], dtype=int64)"
      ]
     },
     "execution_count": 297,
     "metadata": {},
     "output_type": "execute_result"
    }
   ],
   "source": [
    "## first we apply Naive Bayes algorithm\n",
    "\n",
    "from sklearn.naive_bayes import GaussianNB\n",
    "Naive_bayes_classifier = GaussianNB()\n",
    "Naive_bayes_classifier.fit(data_X_train, data_y_train)\n",
    "y_pred_nb = Naive_bayes_classifier.predict(data_X_test)\n",
    "y_pred_nb ## see the predictions on test data"
   ]
  },
  {
   "cell_type": "code",
   "execution_count": 298,
   "id": "66df51c6",
   "metadata": {},
   "outputs": [
    {
     "name": "stdout",
     "output_type": "stream",
     "text": [
      "Naive Bayes accuracy on train data : 80.0407\n"
     ]
    }
   ],
   "source": [
    "nb_acc = accuracy_score(data_y_train, Naive_bayes_classifier.predict(data_X_train))\n",
    "print(\"Naive Bayes accuracy on train data : {0:.4f}\".format(nb_acc*100))"
   ]
  },
  {
   "cell_type": "code",
   "execution_count": 299,
   "id": "bb1f83d5",
   "metadata": {},
   "outputs": [],
   "source": [
    "from sklearn.metrics import accuracy_score, precision_score, recall_score, f1_score"
   ]
  },
  {
   "cell_type": "code",
   "execution_count": 300,
   "id": "1a400bea",
   "metadata": {},
   "outputs": [],
   "source": [
    "## defining a function for evaluating a model\n",
    "\n",
    "def evaluate(data_y_test, y_pred, model_name) :\n",
    "    print(\"{} Model Evaluation on test data\".format(model_name))\n",
    "    print(\"Accuracy : {0:.4f}\".format(accuracy_score(data_y_test, y_pred)*100))\n",
    "    print(\"Precision : {0:.4f}, Recall : {0:.4f}\".format(precision_score(data_y_test, y_pred), recall_score(data_y_test, y_pred_nb)))\n",
    "    print(\"F1-Score : {0:.4f}\".format(f1_score(data_y_test, y_pred)))"
   ]
  },
  {
   "cell_type": "code",
   "execution_count": 301,
   "id": "58022f5f",
   "metadata": {},
   "outputs": [
    {
     "name": "stdout",
     "output_type": "stream",
     "text": [
      "Naive Bayes Model Evaluation on test data\n",
      "Accuracy : 82.9268\n",
      "Precision : 0.8119, Recall : 0.8119\n",
      "F1-Score : 0.8865\n"
     ]
    }
   ],
   "source": [
    "evaluate(data_y_test, y_pred_nb, \"Naive Bayes\")"
   ]
  },
  {
   "cell_type": "markdown",
   "id": "b4034b66",
   "metadata": {},
   "source": [
    "  "
   ]
  },
  {
   "cell_type": "markdown",
   "id": "ad17b762",
   "metadata": {},
   "source": [
    "### Logistic Regression"
   ]
  },
  {
   "cell_type": "code",
   "execution_count": 312,
   "id": "0c6560e2",
   "metadata": {},
   "outputs": [
    {
     "data": {
      "text/plain": [
       "array([0, 1, 0, 1, 1, 0, 1, 1, 1, 1, 1, 1, 1, 1, 1, 1, 1, 1, 0, 1, 1, 0,\n",
       "       1, 1, 1, 1, 1, 1, 1, 1, 1, 1, 1, 1, 1, 0, 1, 1, 1, 0, 1, 1, 1, 1,\n",
       "       1, 1, 1, 1, 0, 1, 1, 1, 1, 1, 1, 1, 1, 1, 1, 0, 1, 1, 1, 1, 1, 1,\n",
       "       1, 0, 1, 1, 1, 1, 1, 1, 1, 1, 1, 1, 0, 1, 1, 1, 1, 1, 1, 0, 0, 1,\n",
       "       1, 1, 1, 1, 0, 0, 1, 1, 1, 1, 1, 1, 0, 1, 0, 1, 1, 1, 1, 0, 0, 1,\n",
       "       1, 0, 1, 0, 1, 1, 1, 1, 0, 1, 1, 1, 1], dtype=int64)"
      ]
     },
     "execution_count": 312,
     "metadata": {},
     "output_type": "execute_result"
    }
   ],
   "source": [
    "from sklearn.linear_model import LogisticRegression\n",
    "Logistic_reg_classifier = LogisticRegression(random_state = 7)\n",
    "Logistic_reg_classifier.fit(data_X_train, data_y_train)\n",
    "y_pred_lr = Logistic_reg_classifier.predict(data_X_test)\n",
    "y_pred_lr ## see the predictions on test data"
   ]
  },
  {
   "cell_type": "code",
   "execution_count": 313,
   "id": "daae1f5a",
   "metadata": {},
   "outputs": [
    {
     "name": "stdout",
     "output_type": "stream",
     "text": [
      "Logistic Regression accuracy on train data : 80.2444\n"
     ]
    }
   ],
   "source": [
    "lr_acc = accuracy_score(data_y_train, Logistic_reg_classifier.predict(data_X_train))\n",
    "print(\"Logistic Regression accuracy on train data : {0:.4f}\".format(lr_acc*100))"
   ]
  },
  {
   "cell_type": "code",
   "execution_count": 314,
   "id": "04fb8628",
   "metadata": {},
   "outputs": [
    {
     "name": "stdout",
     "output_type": "stream",
     "text": [
      "Logistic Regression Model Evaluation on test data\n",
      "Accuracy : 82.9268\n",
      "Precision : 0.8119, Recall : 0.8119\n",
      "F1-Score : 0.8865\n"
     ]
    }
   ],
   "source": [
    "evaluate(data_y_test, y_pred_lr, \"Logistic Regression\")"
   ]
  },
  {
   "cell_type": "markdown",
   "id": "835d7994",
   "metadata": {},
   "source": [
    "  "
   ]
  },
  {
   "cell_type": "markdown",
   "id": "09e80906",
   "metadata": {},
   "source": [
    "### Decision Tree"
   ]
  },
  {
   "cell_type": "code",
   "execution_count": 309,
   "id": "0593a6cf",
   "metadata": {},
   "outputs": [
    {
     "data": {
      "text/plain": [
       "array([0, 1, 0, 1, 0, 0, 0, 1, 1, 1, 1, 0, 0, 1, 1, 1, 1, 1, 0, 1, 1, 0,\n",
       "       0, 1, 1, 1, 0, 1, 1, 1, 1, 1, 0, 0, 1, 0, 1, 1, 1, 0, 1, 0, 1, 0,\n",
       "       1, 1, 0, 1, 0, 1, 1, 1, 1, 0, 1, 1, 1, 1, 1, 0, 1, 1, 0, 0, 1, 1,\n",
       "       1, 0, 1, 0, 1, 1, 1, 0, 1, 1, 1, 1, 0, 0, 1, 1, 1, 1, 1, 0, 0, 1,\n",
       "       1, 1, 0, 1, 0, 0, 0, 0, 1, 1, 0, 1, 0, 1, 0, 1, 1, 1, 1, 0, 0, 1,\n",
       "       1, 0, 1, 0, 1, 1, 1, 1, 0, 1, 0, 1, 0], dtype=int64)"
      ]
     },
     "execution_count": 309,
     "metadata": {},
     "output_type": "execute_result"
    }
   ],
   "source": [
    "from sklearn import tree\n",
    "dt_classifier = tree.DecisionTreeClassifier(criterion = 'entropy', random_state = 7)\n",
    "dt_classifier = dt_classifier.fit(data_X_train, data_y_train)\n",
    "y_pred_dt = dt_classifier.predict(data_X_test)\n",
    "y_pred_dt ## see the predictions on test data"
   ]
  },
  {
   "cell_type": "code",
   "execution_count": 310,
   "id": "290de180",
   "metadata": {},
   "outputs": [
    {
     "name": "stdout",
     "output_type": "stream",
     "text": [
      "Decision Tree accuracy on train data : 100.0000\n"
     ]
    }
   ],
   "source": [
    "dt_acc = accuracy_score(data_y_train, dt_classifier.predict(data_X_train))\n",
    "print(\"Decision Tree accuracy on train data : {0:.4f}\".format(dt_acc*100))"
   ]
  },
  {
   "cell_type": "code",
   "execution_count": 311,
   "id": "99c01bb5",
   "metadata": {},
   "outputs": [
    {
     "name": "stdout",
     "output_type": "stream",
     "text": [
      "Decision Tree Model Evaluation on test data\n",
      "Accuracy : 70.7317\n",
      "Precision : 0.8077, Recall : 0.8077\n",
      "F1-Score : 0.7778\n"
     ]
    }
   ],
   "source": [
    "evaluate(data_y_test, y_pred_dt, \"Decision Tree\")"
   ]
  },
  {
   "cell_type": "markdown",
   "id": "62bec547",
   "metadata": {},
   "source": [
    "  "
   ]
  },
  {
   "cell_type": "markdown",
   "id": "de14e339",
   "metadata": {},
   "source": [
    "### Random Forest"
   ]
  },
  {
   "cell_type": "code",
   "execution_count": 315,
   "id": "de7ef5f6",
   "metadata": {},
   "outputs": [
    {
     "data": {
      "text/plain": [
       "array([0, 1, 0, 1, 0, 0, 1, 1, 1, 1, 1, 1, 0, 1, 1, 1, 1, 1, 0, 1, 1, 0,\n",
       "       1, 1, 1, 1, 1, 1, 1, 1, 1, 1, 1, 0, 1, 0, 1, 1, 1, 0, 1, 1, 1, 1,\n",
       "       1, 1, 1, 1, 0, 1, 1, 1, 1, 0, 1, 1, 1, 1, 1, 0, 1, 0, 1, 1, 1, 1,\n",
       "       1, 0, 1, 1, 1, 1, 1, 1, 1, 1, 1, 1, 0, 0, 1, 1, 1, 1, 1, 0, 0, 1,\n",
       "       1, 1, 1, 0, 0, 0, 1, 0, 1, 1, 1, 1, 0, 1, 0, 1, 1, 1, 1, 0, 0, 1,\n",
       "       1, 0, 1, 0, 1, 1, 1, 1, 0, 1, 1, 1, 1], dtype=int64)"
      ]
     },
     "execution_count": 315,
     "metadata": {},
     "output_type": "execute_result"
    }
   ],
   "source": [
    "from sklearn.ensemble import RandomForestClassifier\n",
    "rf_classifier = RandomForestClassifier(random_state = 7)\n",
    "rf_classifier.fit(data_X_train, data_y_train)\n",
    "y_pred_rf = rf_classifier.predict(data_X_test)\n",
    "y_pred_rf ## see the predictions on test data"
   ]
  },
  {
   "cell_type": "code",
   "execution_count": 316,
   "id": "68310315",
   "metadata": {},
   "outputs": [
    {
     "name": "stdout",
     "output_type": "stream",
     "text": [
      "Random Forest accuracy on train data : 100.0000\n"
     ]
    }
   ],
   "source": [
    "rf_acc = accuracy_score(data_y_train, rf_classifier.predict(data_X_train))\n",
    "print(\"Random Forest accuracy on train data : {0:.4f}\".format(rf_acc*100))"
   ]
  },
  {
   "cell_type": "code",
   "execution_count": 317,
   "id": "855d9eb8",
   "metadata": {},
   "outputs": [
    {
     "name": "stdout",
     "output_type": "stream",
     "text": [
      "Random Forest Model Evaluation on test data\n",
      "Accuracy : 78.0488\n",
      "Precision : 0.8065, Recall : 0.8065\n",
      "F1-Score : 0.8475\n"
     ]
    }
   ],
   "source": [
    "evaluate(data_y_test, y_pred_rf, \"Random Forest\")"
   ]
  },
  {
   "cell_type": "markdown",
   "id": "8b4149a5",
   "metadata": {},
   "source": [
    "   "
   ]
  },
  {
   "cell_type": "markdown",
   "id": "8c57d35e",
   "metadata": {},
   "source": [
    "### Support Vector Machine"
   ]
  },
  {
   "cell_type": "code",
   "execution_count": 324,
   "id": "6c81806a",
   "metadata": {},
   "outputs": [
    {
     "data": {
      "text/plain": [
       "array([0, 1, 0, 1, 1, 0, 1, 1, 1, 1, 1, 1, 1, 1, 1, 1, 1, 1, 0, 1, 1, 0,\n",
       "       1, 1, 1, 1, 1, 1, 1, 1, 1, 1, 1, 1, 1, 0, 1, 1, 1, 0, 1, 1, 1, 1,\n",
       "       1, 1, 1, 1, 0, 1, 1, 1, 1, 1, 1, 1, 1, 1, 1, 0, 1, 1, 1, 1, 1, 1,\n",
       "       1, 0, 1, 1, 1, 1, 1, 1, 1, 1, 1, 1, 0, 1, 1, 1, 1, 1, 1, 0, 0, 1,\n",
       "       1, 1, 1, 1, 0, 0, 1, 1, 1, 1, 1, 1, 0, 1, 0, 1, 1, 1, 1, 0, 0, 1,\n",
       "       1, 0, 1, 0, 1, 1, 1, 1, 0, 1, 1, 1, 1], dtype=int64)"
      ]
     },
     "execution_count": 324,
     "metadata": {},
     "output_type": "execute_result"
    }
   ],
   "source": [
    "from sklearn import svm\n",
    "svm_classifier = svm.SVC(kernel='linear', random_state = 7)\n",
    "svm_classifier.fit(data_X_train, data_y_train)\n",
    "y_pred_svm =svm_classifier.predict(data_X_test)\n",
    "y_pred_svm ## see the predictions on test data"
   ]
  },
  {
   "cell_type": "code",
   "execution_count": 325,
   "id": "a6b305b5",
   "metadata": {},
   "outputs": [
    {
     "name": "stdout",
     "output_type": "stream",
     "text": [
      "Support Vector Machine accuracy on train data : 80.4481\n"
     ]
    }
   ],
   "source": [
    "svm_acc = accuracy_score(data_y_train, svm_classifier.predict(data_X_train))\n",
    "print(\"Support Vector Machine accuracy on train data : {0:.4f}\".format(svm_acc*100))"
   ]
  },
  {
   "cell_type": "code",
   "execution_count": 326,
   "id": "b2d8ab6a",
   "metadata": {},
   "outputs": [
    {
     "name": "stdout",
     "output_type": "stream",
     "text": [
      "Support Vector Machine Model Evaluation on test data\n",
      "Accuracy : 82.9268\n",
      "Precision : 0.8119, Recall : 0.8119\n",
      "F1-Score : 0.8865\n"
     ]
    }
   ],
   "source": [
    "evaluate(data_y_test, y_pred_svm, \"Support Vector Machine\")"
   ]
  },
  {
   "cell_type": "markdown",
   "id": "15d481b5",
   "metadata": {},
   "source": [
    "  "
   ]
  },
  {
   "cell_type": "markdown",
   "id": "f7baebac",
   "metadata": {},
   "source": [
    "##### Summary of Models  Accuracy on Test Data : \n",
    "#####  Naive Bayes : 82.9268\n",
    "#####  Logistic Regression : 82.9268\n",
    "#####  Decison Tree : 70.7317\n",
    "#####  Random Forest : 78.0488\n",
    "#####  Support Vector Machine : 82.9268"
   ]
  },
  {
   "cell_type": "markdown",
   "id": "5ed3c9fd",
   "metadata": {},
   "source": [
    "  ##### So, 3 models are giving same accuracy of approx. 83%, we choose the Naive Bayes model for real time predictions. "
   ]
  },
  {
   "cell_type": "markdown",
   "id": "c4d5b64e",
   "metadata": {},
   "source": [
    "  "
   ]
  },
  {
   "cell_type": "markdown",
   "id": "6fb01de6",
   "metadata": {},
   "source": [
    "  "
   ]
  },
  {
   "cell_type": "markdown",
   "id": "c58a2ae2",
   "metadata": {},
   "source": [
    "## Making Sample Prediction\n"
   ]
  },
  {
   "cell_type": "code",
   "execution_count": 328,
   "id": "8e983efa",
   "metadata": {},
   "outputs": [],
   "source": [
    "# Suppose we are given with the following parameters, so we apply these in a suitable manner to our model\n",
    "\n",
    "gender = 'male'\n",
    "married = 'yes'\n",
    "dependents = 1\n",
    "self_employeed = 'yes'\n",
    "education = 'graduate'\n",
    "credit_history = 'Yes'\n",
    "property_area = 'Rural'\n",
    "Applicant_income = 6000\n",
    "CoApplicant_income = 1000\n",
    "loanamount = 500\n",
    "loanAmountterm = 312\n",
    "\n",
    "\n",
    "rural = 0\n",
    "semiurban = 0\n",
    "\n",
    "if(credit_history == 'Yes') :\n",
    "    credit_history = 1.0\n",
    "else :\n",
    "    credit_history = 0.0\n",
    "    \n",
    "if(married == 'Yes') :\n",
    "    married = 1\n",
    "else :\n",
    "    married = 0    \n",
    "\n",
    "if(gender == 'male') :\n",
    "    gender = 0\n",
    "else :\n",
    "    gender = 1    \n",
    "\n",
    "if(education == 'graduate') :\n",
    "    education = 1\n",
    "else :\n",
    "    education = 0 \n",
    "\n",
    "if(self_employeed == 'yes') :\n",
    "    self_employeed = 1\n",
    "else :\n",
    "    self_employeed = 0\n",
    "    \n",
    "loanAmountterm = float(loanAmountterm)\n",
    "\n",
    "\n",
    "\n",
    "if(property_area == 'rural') :\n",
    "    rural = 1\n",
    "    semiurban = 0\n",
    "elif(property_area == 'semiurban') :\n",
    "    rural = 0\n",
    "    semiurban = 1\n",
    "\n",
    "    \n",
    "loanamountlog = np.log(loanamount)\n",
    "\n",
    "incometotallog = np.log(Applicant_income+CoApplicant_income)\n",
    "\n",
    "\n",
    "sample_data = (married, dependents, education, self_employeed,\n",
    "               loanAmountterm, credit_history, gender, rural, semiurban, loanamountlog, incometotallog)"
   ]
  },
  {
   "cell_type": "code",
   "execution_count": 329,
   "id": "419d706e",
   "metadata": {},
   "outputs": [
    {
     "data": {
      "text/plain": [
       "(0, 1, 1, 1, 312.0, 1.0, 0, 0, 0, 6.214608098422191, 8.85366542803745)"
      ]
     },
     "execution_count": 329,
     "metadata": {},
     "output_type": "execute_result"
    }
   ],
   "source": [
    "sample_data"
   ]
  },
  {
   "cell_type": "code",
   "execution_count": 340,
   "id": "699b0c38",
   "metadata": {},
   "outputs": [],
   "source": [
    "def printres(model, sample) :\n",
    "    if(model.predict(np.asarray(sample).reshape(1, -1)) == 1) :\n",
    "        print('Loan Approved') \n",
    "    else :   \n",
    "        print('Loan Not Approved')"
   ]
  },
  {
   "cell_type": "code",
   "execution_count": 342,
   "id": "d6dc783e",
   "metadata": {},
   "outputs": [
    {
     "name": "stdout",
     "output_type": "stream",
     "text": [
      "Using Naive Bayes : Loan Approved\n",
      "Using Logistic Regression : Loan Approved\n",
      "Using Decision Tree : Loan Approved\n",
      "Using Random Forest : Loan Approved\n",
      "Using Support Vector Machine : Loan Approved\n"
     ]
    }
   ],
   "source": [
    "print('Using Naive Bayes : ', end=\"\")\n",
    "printres(Naive_bayes_classifier, sample_data)\n",
    "print('Using Logistic Regression : ', end=\"\")\n",
    "printres(Logistic_reg_classifier, sample_data)\n",
    "print('Using Decision Tree : ', end=\"\")\n",
    "printres(dt_classifier, sample_data)\n",
    "print('Using Random Forest : ', end=\"\")\n",
    "printres(rf_classifier, sample_data)\n",
    "print('Using Support Vector Machine : ', end=\"\")\n",
    "printres(svm_classifier, sample_data)"
   ]
  },
  {
   "cell_type": "markdown",
   "id": "fa2a86d1",
   "metadata": {},
   "source": [
    " "
   ]
  },
  {
   "cell_type": "markdown",
   "id": "a1e618dd",
   "metadata": {},
   "source": [
    " "
   ]
  },
  {
   "cell_type": "markdown",
   "id": "545dbe83",
   "metadata": {},
   "source": [
    "## Saving the Model"
   ]
  },
  {
   "cell_type": "code",
   "execution_count": 343,
   "id": "5d1b76f3",
   "metadata": {},
   "outputs": [],
   "source": [
    "import pickle"
   ]
  },
  {
   "cell_type": "code",
   "execution_count": 348,
   "id": "11837866",
   "metadata": {},
   "outputs": [],
   "source": [
    "pickle.dump(Naive_bayes_classifier, open('loan_model.pkl', 'wb'))"
   ]
  }
 ],
 "metadata": {
  "kernelspec": {
   "display_name": "Python 3",
   "language": "python",
   "name": "python3"
  },
  "language_info": {
   "codemirror_mode": {
    "name": "ipython",
    "version": 3
   },
   "file_extension": ".py",
   "mimetype": "text/x-python",
   "name": "python",
   "nbconvert_exporter": "python",
   "pygments_lexer": "ipython3",
   "version": "3.8.8"
  }
 },
 "nbformat": 4,
 "nbformat_minor": 5
}
